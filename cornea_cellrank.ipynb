{
  "cells": [
    {
      "cell_type": "code",
      "source": [
        "import scanpy as sc\n",
        "import anndata\n",
        "from scipy import io\n",
        "from scipy.sparse import coo_matrix, csr_matrix\n",
        "import numpy as np\n",
        "import os\n",
        "import pandas as pd\n",
        "import matplotlib.pyplot as plt\n",
        "\n",
        "import scvelo as scv\n",
        "import scanpy as sc\n",
        "import cellrank as cr\n",
        "import numpy as np\n",
        "import pandas as pd\n",
        "import anndata as ad\n",
        "import igraph as ig"
      ],
      "outputs": [],
      "execution_count": 1,
      "metadata": {}
    },
    {
      "cell_type": "code",
      "source": [
        "# load dataset\n",
        "adata_final = sc.read_h5ad('cornea_epithelium_final_data_merge.h5ad')\n"
      ],
      "outputs": [],
      "execution_count": 2,
      "metadata": {}
    },
    {
      "cell_type": "code",
      "source": [
        "sc.pl.umap(adata_final, color='leiden_anno', frameon=False, legend_loc='on data', title='')#, save='_celltypes_final.pdf')\n"
      ],
      "outputs": [],
      "execution_count": null,
      "metadata": {}
    },
    {
      "cell_type": "code",
      "source": [
        "scv.pl.proportions(adata_final, groupby='group')"
      ],
      "outputs": [],
      "execution_count": null,
      "metadata": {}
    },
    {
      "cell_type": "code",
      "source": [
        "#sc.pp.normalize_total(adata_final, target_sum=1e4)\n",
        "sc.pp.normalize_per_cell(adata_final)\n",
        "sc.pp.log1p(adata_final)"
      ],
      "outputs": [],
      "execution_count": 5,
      "metadata": {}
    },
    {
      "cell_type": "code",
      "source": [
        "# load highly_variable:\n",
        "with open(\"cornea_epithelium_final.val_gene.csv\", 'r') as f:\n",
        " highly_variable = f.read().splitlines()\n",
        "\n",
        "adata_final = adata_final[:,highly_variable]\n"
      ],
      "outputs": [],
      "execution_count": 6,
      "metadata": {}
    },
    {
      "cell_type": "code",
      "source": [
        "sc.tl.pca(adata_final)\n",
        "sc.pp.neighbors(adata_final, n_pcs=30, n_neighbors=30)\n",
        "scv.pp.moments(adata_final, n_pcs=None, n_neighbors=None)"
      ],
      "outputs": [],
      "execution_count": null,
      "metadata": {}
    },
    {
      "cell_type": "code",
      "source": [
        "#scv.pp.filter_and_normalize(adata_final, min_shared_counts=20, n_top_genes=3000)\n",
        "scv.pp.filter_and_normalize(adata_final, min_shared_counts=20, n_top_genes=2000)\n",
        "sc.tl.pca(adata_final)\n",
        "sc.pp.neighbors(adata_final, n_pcs=30, n_neighbors=30)\n",
        "scv.pp.moments(adata_final, n_pcs=None, n_neighbors=None)"
      ],
      "outputs": [],
      "execution_count": null,
      "metadata": {}
    },
    {
      "cell_type": "code",
      "source": [
        "scv.tl.recover_dynamics(adata_final, n_jobs=48)"
      ],
      "outputs": [],
      "execution_count": null,
      "metadata": {}
    },
    {
      "cell_type": "code",
      "source": [
        "scv.tl.velocity(adata_final, mode=\"dynamical\")\n",
        "scv.tl.velocity_graph(adata_final,n_jobs=48)"
      ],
      "outputs": [],
      "execution_count": null,
      "metadata": {}
    },
    {
      "cell_type": "code",
      "source": [
        "scv.pl.velocity_embedding_stream(\n",
        "    adata_final, basis=\"umap\", legend_fontsize=5, title=\"\", smooth=1, min_mass=0.5, color=['leiden_anno','initial_size_spliced'],#color='cell_type'\n",
        "    save='cornea.epithelium_final.velocity.svg'\n",
        ")"
      ],
      "outputs": [],
      "execution_count": null,
      "metadata": {}
    },
    {
      "cell_type": "code",
      "source": [
        "adata_final.write('cornea_epithelium_final_data_phate_scVelocity_adata.h5ad')"
      ],
      "outputs": [],
      "execution_count": 160,
      "metadata": {}
    },
    {
      "cell_type": "code",
      "source": [
        "adata_final = sc.read_h5ad('cornea_epithelium_final_data_phate_scVelocity_adata.h5ad')\n"
      ],
      "outputs": [],
      "execution_count": 3,
      "metadata": {}
    },
    {
      "cell_type": "code",
      "source": [
        "#cr.tl.terminal_states(adata_final, cluster_key=\"leiden_anno\",weight_connectivities=0.2,n_jobs=48,estimator=cr.tl.estimators.CFLARE,n_states=2)\n",
        "\n",
        "cr.tl.terminal_states(adata_final, cluster_key=\"leiden_anno\",weight_connectivities=0.2,n_jobs=48,estimator=cr.tl.estimators.GPCCA,n_states=2)#,n_states=1)\n",
        "\n",
        "cr.pl.terminal_states(adata_final, same_plot=False)"
      ],
      "outputs": [],
      "execution_count": null,
      "metadata": {}
    },
    {
      "cell_type": "code",
      "source": [
        "###\n",
        "#cr.tl.initial_states(adata_final, cluster_key=\"leiden_anno\",n_jobs=48,weight_connectivities=0.2,estimator=cr.tl.estimators.CFLARE,n_states=1)\n",
        "cr.tl.initial_states(adata_final, cluster_key=\"leiden_anno\",n_jobs=48,weight_connectivities=0.2,estimator=cr.tl.estimators.GPCCA,n_states=1)\n",
        "cr.pl.initial_states(adata_final, discrete=True)"
      ],
      "outputs": [],
      "execution_count": null,
      "metadata": {}
    },
    {
      "cell_type": "code",
      "source": [
        "###Compute fate maps\n",
        "\n",
        "cr.tl.lineages(adata_final)\n"
      ],
      "outputs": [],
      "execution_count": null,
      "metadata": {}
    },
    {
      "cell_type": "code",
      "source": [
        "cr.pl.lineages(adata_final, same_plot=True)"
      ],
      "outputs": [],
      "execution_count": null,
      "metadata": {}
    },
    {
      "cell_type": "code",
      "source": [
        "scv.tl.recover_latent_time(\n",
        "    adata_final, root_key=\"initial_states_probs\", end_key=\"terminal_states_probs\"\n",
        ")"
      ],
      "outputs": [],
      "execution_count": null,
      "metadata": {}
    },
    {
      "cell_type": "code",
      "source": [
        "##\n",
        "scv.tl.paga(\n",
        "    adata_final,\n",
        "    groups=\"leiden_anno\",\n",
        "    root_key=\"initial_states_probs\",\n",
        "    end_key=\"terminal_states_probs\",\n",
        "    use_time_prior=\"velocity_pseudotime\",\n",
        ")"
      ],
      "outputs": [],
      "execution_count": null,
      "metadata": {}
    },
    {
      "cell_type": "code",
      "source": [
        "cr.pl.cluster_fates(\n",
        "    adata_final,\n",
        "    mode=\"paga_pie\",\n",
        "    cluster_key=\"leiden_anno\",\n",
        "    basis=\"umap\",\n",
        "    legend_kwargs={\"loc\": \"top right out\"},\n",
        "    legend_loc=\"top left out\",\n",
        "    node_size_scale=5,\n",
        "    edge_width_scale=1,\n",
        "    max_edge_width=4,\n",
        "    title=\"directed PAGA\",\n",
        "    save=\"cornea_PAGA_final_3.pdf\"\n",
        ")"
      ],
      "outputs": [],
      "execution_count": null,
      "metadata": {}
    },
    {
      "cell_type": "code",
      "source": [
        "#Compute lineage drivers\n",
        "\n",
        "##\n",
        "cr.tl.lineage_drivers(adata_final,n_jobs=48)\n"
      ],
      "outputs": [],
      "execution_count": null,
      "metadata": {}
    },
    {
      "cell_type": "code",
      "source": [
        "cr.pl.lineage_drivers(adata_final,lineage=\"adult_cornea.superficial\", n_genes=10,save=\"terminal_lineage_drivers_umap.pdf\")"
      ],
      "outputs": [],
      "execution_count": null,
      "metadata": {}
    },
    {
      "cell_type": "code",
      "source": [
        "##Gene expression trends\n",
        "\n",
        "# compue DPT, starting from CellRank defined root cell\n",
        "root_idx = np.where(adata_final.obs[\"initial_states\"] == \"E_cornea.basal\")[0][0]\n",
        "adata_final.uns[\"iroot\"] = root_idx\n",
        "sc.tl.dpt(adata_final)\n",
        "\n",
        "scv.pl.scatter(\n",
        "    adata_final,\n",
        "    color=[\"cell_type\", root_idx, \"latent_time\", \"dpt_pseudotime\"],\n",
        "    fontsize=16,\n",
        "    cmap=\"viridis\",\n",
        "    perc=[2, 98],\n",
        "    colorbar=True,\n",
        "    rescale_color=[0, 1],\n",
        "    title=[\"clusters\", \"root cell\", \"latent time\", \"dpt pseudotime\"],\n",
        "   # save=\"./final/latent_time_dpt_pseudotime.pdf\"\n",
        ")"
      ],
      "outputs": [],
      "execution_count": null,
      "metadata": {}
    },
    {
      "cell_type": "code",
      "source": [
        "model = cr.ul.models.GAM(adata_final)\n",
        "cr.pl.gene_trends(\n",
        "    adata_final,\n",
        "    model=model,\n",
        "    data_key=\"X\",\n",
        "    #genes=[\"KRT15\", \"BCAM\", \"KRT14\",\"LGALS1\",\"S100A2\",\"RORA\",\"PITX1\",\n",
        "     #      \"KRT3\",\"KRT12\",\"KRT24\",\"MAL\",\"MAL2\",\"LGALS3\",\"MUC21\",\"MUC16\",\"LYPD2\",\"CTSV\",\"S100A4\",\"CAV1\",\"CAV2\",],\n",
        "    genes=[\"KRT15\", \"BCAM\",\"WNT6\",\"CAV1\",\"CAV2\",\"KRT14\",\"IFITM3\",\"LGALS1\",\n",
        "          \"KRT3\",\"KRT12\",\"KRT24\",\"CLU\",\"LGALS3\",\"MUC16\",\"LGALSL\",\"MAL\",\"MAL2\",\"LYPD2\",\"NQO1\",\"S100A4\"],\n",
        "\n",
        "    # genes=[\"RORA\",\"PITX1\",\"EHF\",\"ELF3\",\"KLF4\",\"KLF5\",\"KLF6\",\"BHLHE40\",\"BHLHE41\", \"HES5\",\"DBP\",\"MAFF\",\"ELK3\",\"GRHL3\",\"IRF6\",\n",
        "     #     \"OVOL1\",\"ZBTB43\",\"ZNF431\",\"ZNF750\",\"MBD2\",\"NR1D1\"],\n",
        "    ncols=4,\n",
        "    time_key=\"latent_time\",\n",
        "    same_plot=True,\n",
        "    hide_cells=True,\n",
        "    figsize=(12, 12),\n",
        "    n_test_points=200,\n",
        "    lineages=\"adult_cornea.superficial\",\n",
        "    n_jobs=40,\n",
        "    save=\"./final/key TF trends.svg\",\n",
        ")\n"
      ],
      "outputs": [],
      "execution_count": null,
      "metadata": {}
    },
    {
      "cell_type": "code",
      "source": [
        "model = cr.ul.models.GAM(adata_final)\n",
        "cr.pl.heatmap(\n",
        "    adata_final,\n",
        "    model,\n",
        "    #genes=adata_final.varm['terminal_lineage_drivers'][\"adult_cornea.superficial_corr\"].sort_values(ascending=False).index[:100],\n",
        "    #genes=adata_final.varm['terminal_lineage_drivers'][\"limbal.superfcial_corr\"].sort_values(ascending=True).index[:100],\n",
        "    #genes=[\"RORA\",\"PITX1\"],\n",
        "    genes=[\"RORA\",\"PITX1\",\"EHF\",\"ELF3\",\"KLF4\",\"KLF5\",\"KLF6\",\"BHLHE40\",\"BHLHE41\", \"HES5\",\"DBP\",\"MAFF\",\"ELK3\",\"GRHL3\",\"IRF6\",\n",
        "          \"OVOL1\",\"ZBTB43\",\"ZNF431\",\"ZNF750\",\"MBD2\",\"NR1D1\"],\n",
        "    show_absorption_probabilities=False,\n",
        "    lineages=\"adult_cornea.superficial\",\n",
        "    n_jobs=48,\n",
        "    backend=\"loky\",\n",
        "    keep_gene_order=True,\n",
        "    #mode = 'genes',\n",
        "    show_all_genes=True,\n",
        "    figsize=(8,8),\n",
        "   # backward=True,\n",
        "    #cluster_key=\"leiden_anno\",\n",
        "    save=\"./final/terminal_lineage_TF_heatmap.pdf\",\n",
        ")"
      ],
      "outputs": [],
      "execution_count": null,
      "metadata": {}
    }
  ],
  "metadata": {
    "kernelspec": {
      "display_name": "singlecell",
      "language": "python",
      "name": "singlecell"
    },
    "language_info": {
      "codemirror_mode": {
        "name": "ipython",
        "version": 3
      },
      "file_extension": ".py",
      "mimetype": "text/x-python",
      "name": "python",
      "nbconvert_exporter": "python",
      "pygments_lexer": "ipython3",
      "version": "3.10.5"
    },
    "nteract": {
      "version": "0.28.0"
    }
  },
  "nbformat": 4,
  "nbformat_minor": 4
}