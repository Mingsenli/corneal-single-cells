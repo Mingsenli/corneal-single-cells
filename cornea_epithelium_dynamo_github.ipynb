{
 "cells": [
  {
   "cell_type": "code",
   "execution_count": null,
   "id": "5deddcb3",
   "metadata": {},
   "outputs": [],
   "source": [
    "import dynamo as dyn\n",
    "dyn.get_all_dependencies_version()\n",
    "\n",
    "import scanpy as sc\n",
    "import anndata\n",
    "from scipy import io\n",
    "from scipy.sparse import coo_matrix, csr_matrix\n",
    "import numpy as np  #\n",
    "import os\n",
    "import pandas as pd  ###\n",
    "import matplotlib.pyplot as plt\n",
    "\n",
    "import scvelo as scv\n",
    "\n",
    "from gseapy.plot import barplot, dotplot\n",
    "\n",
    "%matplotlib inline\n",
    "from dynamo.dynamo_logger import main_info, LoggerManager\n",
    "LoggerManager.main_logger.setLevel(LoggerManager.INFO)\n",
    "\n",
    "\n",
    "import seaborn as sns\n",
    "\n",
    "import sys\n",
    "\n",
    "\n"
   ]
  },
  {
   "cell_type": "code",
   "execution_count": null,
   "id": "ab31e627",
   "metadata": {},
   "outputs": [],
   "source": [
    "# visualization settings\n",
    "%config InlineBackend.figure_format = 'retina'\n",
    "%matplotlib inline\n",
    "\n",
    "plt.rcParams['figure.figsize'] = [6, 4.5]\n",
    "plt.rcParams[\"savefig.dpi\"] = 1000\n",
    "\n",
    "save_folder = \"figure\"\n",
    "os.makedirs(save_folder, exist_ok=True)"
   ]
  },
  {
   "cell_type": "code",
   "execution_count": null,
   "id": "9fe76b2d",
   "metadata": {},
   "outputs": [],
   "source": [
    "dyn.configuration.set_figure_params('dynamo', background='white') # jupter notebooks\n",
    "dyn.configuration.set_pub_style() # manuscript"
   ]
  },
  {
   "cell_type": "code",
   "execution_count": null,
   "id": "e003fa35",
   "metadata": {},
   "outputs": [],
   "source": [
    "adata = sc.read_h5ad('cornea_epithelium_final_dynamo.h5ad')"
   ]
  },
  {
   "cell_type": "code",
   "execution_count": null,
   "id": "a61b4c49",
   "metadata": {},
   "outputs": [],
   "source": [
    "adata.obs.leiden_anno.unique()"
   ]
  },
  {
   "cell_type": "code",
   "execution_count": null,
   "id": "cdd54e2f",
   "metadata": {},
   "outputs": [],
   "source": [
    "dyn.pp.recipe_monocle(adata)\n",
    "dyn.tl.dynamics(adata, cores=48)\n",
    "dyn.tl.reduceDimension(adata)\n",
    "\n",
    "dyn.pl.umap(adata, color='leiden_anno')"
   ]
  },
  {
   "cell_type": "code",
   "execution_count": null,
   "id": "9262a433",
   "metadata": {},
   "outputs": [],
   "source": [
    "# you can set `verbose = 1/2/3` to obtain different levels of running information of vector field reconstruction\n",
    "dyn.vf.VectorField(adata, basis='umap', M=1000, pot_curl_div=True)"
   ]
  },
  {
   "cell_type": "code",
   "execution_count": null,
   "id": "e921a038",
   "metadata": {},
   "outputs": [],
   "source": [
    "dyn.pl.umap(adata,  color=['umap_ddhodge_potential',\"RORA\",\"PITX1\"],layer=\"M_s\", frontier=True)\n",
    "\n",
    "#plt.savefig(\"./figure/cornea umap_ddhodge_potential.pdf\")"
   ]
  },
  {
   "cell_type": "code",
   "execution_count": null,
   "id": "24a89d11",
   "metadata": {},
   "outputs": [],
   "source": [
    "dyn.tl.cell_velocities(adata, basis='pca')\n",
    "dyn.vf.VectorField(adata, basis='pca')\n",
    "dyn.vf.speed(adata, basis='pca')\n",
    "dyn.vf.curl(adata, basis='umap')\n",
    "dyn.vf.divergence(adata, basis='pca')\n",
    "dyn.vf.acceleration(adata, basis='pca')\n",
    "dyn.vf.curvature(adata, basis='pca')"
   ]
  },
  {
   "cell_type": "code",
   "execution_count": null,
   "id": "b4b570be",
   "metadata": {},
   "outputs": [],
   "source": [
    "fig1, f1_axes = plt.subplots(ncols=2, nrows=2, constrained_layout=True, figsize=(12, 8))\n",
    "f1_axes\n",
    "f1_axes[0, 0] = dyn.pl.cell_wise_vectors(adata, color='speed_pca', pointsize=0.5, alpha = 0.7, ax=f1_axes[0, 0], quiver_length=6, quiver_size=6, save_show_or_return='return')\n",
    "f1_axes[0, 1] = dyn.pl.grid_vectors(adata, color='divergence_pca', ax=f1_axes[0, 1], quiver_length=12, quiver_size=12, save_show_or_return='return')\n",
    "f1_axes[1, 0] = dyn.pl.streamline_plot(adata, color='acceleration_pca', ax=f1_axes[1, 0], save_show_or_return='return')\n",
    "f1_axes[1, 1] = dyn.pl.streamline_plot(adata, color='curvature_pca', ax=f1_axes[1, 1], save_show_or_return='return')\n",
    "plt.show()\n",
    "\n",
    "\n",
    "plt.savefig(\"./figure/cornea speed and acceleration divergence curvature pca.pdf\")\n"
   ]
  },
  {
   "cell_type": "code",
   "execution_count": null,
   "id": "dfe8fbf8",
   "metadata": {},
   "outputs": [],
   "source": [
    "dyn.tl.cell_velocities(adata,basis='umap')\n",
    "dyn.vf.VectorField(adata,basis='umap', M=1000,cores=48)"
   ]
  },
  {
   "cell_type": "code",
   "execution_count": null,
   "id": "1e8de4ce",
   "metadata": {},
   "outputs": [],
   "source": [
    "dyn.pl.streamline_plot(\n",
    "    adata,\n",
    "    color=[\"leiden_anno\"],\n",
    "    layer=\"M_s\",\n",
    "    figsize=(8, 6),\n",
    "    #ncols=2\n",
    ")\n",
    "\n",
    "#plt.savefig(\"./figure/streamline_plot_M_s.svg\")"
   ]
  },
  {
   "cell_type": "code",
   "execution_count": null,
   "id": "9af24d0b",
   "metadata": {},
   "outputs": [],
   "source": [
    "dyn.pp.top_pca_genes(adata, n_top_genes=500);  "
   ]
  },
  {
   "cell_type": "code",
   "execution_count": null,
   "id": "c958c6d7",
   "metadata": {},
   "outputs": [],
   "source": [
    "top_pca_genes = adata.var.index[adata.var.top_pca_genes];\n",
    "\n",
    "top_pca_genes\n"
   ]
  },
  {
   "cell_type": "code",
   "execution_count": null,
   "id": "3b256bf8",
   "metadata": {},
   "outputs": [],
   "source": [
    "dyn.vf.jacobian(adata, regulators=top_pca_genes, effectors=top_pca_genes);"
   ]
  },
  {
   "cell_type": "code",
   "execution_count": null,
   "id": "90cd821d",
   "metadata": {},
   "outputs": [],
   "source": [
    "dyn.pl.jacobian(adata, regulators=['RORA'], effectors=['RORA','PITX1'], basis='umap', \n",
    "                figsize=(6, 4), show_arrowed_spines=True, stacked_fraction=False)\n"
   ]
  },
  {
   "cell_type": "code",
   "execution_count": null,
   "id": "6b736c68",
   "metadata": {},
   "outputs": [],
   "source": [
    "#%matplotlib inline\n",
    " \n",
    "\n",
    "dyn.vf.jacobian(adata, regulators=[\"RORA\"], effectors=['PITX1','KRT3',\"IFITM3\",\"KRT14\",\"KRT19\", \"KLF4\",\"TGFBI\",\n",
    "                                                                \"MAL\",\"KRT12\",\"BCAM\",\"LGALS3\",\"NQO1\",\"S100A2\",\"KRT15\"] )\n",
    "dyn.pl.response(\n",
    "    adata,\n",
    "    np.array([ [\"RORA\", \"PITX1\"], [\"RORA\", \"KRT3\"], [\"RORA\", \"IFITM3\"],[\"RORA\", \"KRT14\"],[\"RORA\", \"KRT19\"],[\"RORA\", \"KLF4\"],\n",
    "              [\"RORA\", \"TGFBI\"],[\"RORA\", \"MAL\"],\n",
    "              \n",
    "              [\"RORA\", \"KRT12\"],[\"RORA\", \"BCAM\"],[\"RORA\", \"LGALS3\"],[\"RORA\", \"NQO1\"],[\"RORA\", \"S100A2\"],[\"RORA\", \"KRT15\"]\n",
    "             ]),\n",
    "    ykey=\"jacobian\",\n",
    "    xkey=\"M_s\",\n",
    "     n_col=2, n_row=7,zero_indicator=True,fit_curve=False, fit_mode='hill',\n",
    "     stacked_fraction=False,\n",
    "    log=False,\n",
    "    drop_zero_cells=True,\n",
    "    grid_num=30,\n",
    "    figsize=(5, 5),\n",
    "    save_show_or_return='both',\n",
    "    save_kwargs={\"path\":\"jacobian\",\"prefix\":\"RORA\",\"ext\":\"pdf\"}\n",
    "    \n",
    ")"
   ]
  },
  {
   "cell_type": "code",
   "execution_count": null,
   "id": "9037078c",
   "metadata": {},
   "outputs": [],
   "source": [
    "\n",
    "dyn.vf.jacobian(adata, regulators=[\"PITX1\"], effectors=['KRT3',\"KRT12\"] )\n",
    "dyn.pl.response(\n",
    "    adata,\n",
    "    np.array([ [\"PITX1\", \"KRT3\"], [\"PITX1\", \"KRT12\"]\n",
    "\n",
    "             ]),\n",
    "    \n",
    "    ykey=\"jacobian\",\n",
    "    xkey=\"M_s\",\n",
    "     n_col=2, n_row=1, zero_indicator=True,fit_curve=False, fit_mode='hill',\n",
    "     stacked_fraction=False,\n",
    "    log=False,\n",
    "    drop_zero_cells=True,\n",
    "    grid_num=30,\n",
    "    figsize=(5, 5),\n",
    "    save_show_or_return='both',\n",
    "    save_kwargs={\"path\":\"jacobian_1\",\"prefix\":\"PITX1\",\"ext\":\"pdf\"}\n",
    "    \n",
    ")\n",
    "\n",
    "\n",
    "\n",
    "\n",
    "dyn.vf.jacobian(adata, regulators=[\"PITX1\"], effectors=[\"MAL\",\"CLU\"] )\n",
    "                                                        \n",
    "dyn.pl.response(\n",
    "    adata,\n",
    "    np.array([ [\"PITX1\", \"MAL\"],[\"PITX1\", \"CLU\"],\n",
    "\n",
    "             ]),\n",
    "    \n",
    "    ykey=\"jacobian\",\n",
    "    xkey=\"M_s\",\n",
    "     n_col=2, n_row=1, zero_indicator=True,fit_curve=False, fit_mode='hill',\n",
    "     stacked_fraction=False,\n",
    "    log=False,\n",
    "    drop_zero_cells=True,\n",
    "    grid_num=30,\n",
    "    figsize=(5, 5),\n",
    "    save_show_or_return='both',\n",
    "    save_kwargs={\"path\":\"jacobian_2\",\"prefix\":\"PITX1\",\"ext\":\"pdf\"}\n",
    "    \n",
    ")\n",
    "\n",
    "\n",
    "\n",
    "dyn.vf.jacobian(adata, regulators=[\"PITX1\"], effectors=[\"KRT14\",\"KRT19\",] )\n",
    "dyn.pl.response(\n",
    "    adata,\n",
    "    np.array([ [\"PITX1\", \"KRT14\"], [\"PITX1\", \"KRT19\"],\n",
    "\n",
    "             ]),\n",
    "    \n",
    "    ykey=\"jacobian\",\n",
    "    xkey=\"M_s\",\n",
    "     n_col=2, n_row=1, zero_indicator=True,fit_curve=False, fit_mode='hill',\n",
    "     stacked_fraction=False,\n",
    "    log=False,\n",
    "    drop_zero_cells=True,\n",
    "    grid_num=30,\n",
    "    figsize=(5, 5),\n",
    "    save_show_or_return='both',\n",
    "    save_kwargs={\"path\":\"jacobian_3\",\"prefix\":\"PITX1\",\"ext\":\"pdf\"}\n",
    "    \n",
    ")\n",
    "\n",
    "\n",
    "\n",
    "dyn.vf.jacobian(adata, regulators=[\"PITX1\"], effectors=[\"S100A2\",\"KRT15\"] )\n",
    "                                                         \n",
    "dyn.pl.response(\n",
    "    adata,\n",
    "    np.array([ [\"PITX1\", \"S100A2\"],[\"PITX1\", \"KRT15\"],\n",
    "\n",
    "             ]),\n",
    "    \n",
    "    ykey=\"jacobian\",\n",
    "    xkey=\"M_s\",\n",
    "     n_col=2, n_row=1, zero_indicator=True,fit_curve=False, fit_mode='hill',\n",
    "     stacked_fraction=False,\n",
    "    log=False,\n",
    "    drop_zero_cells=True,\n",
    "    grid_num=30,\n",
    "    figsize=(5, 5),\n",
    "    save_show_or_return='both',\n",
    "    save_kwargs={\"path\":\"jacobian_4\",\"prefix\":\"PITX1\",\"ext\":\"pdf\"}\n",
    "    \n",
    ")"
   ]
  },
  {
   "cell_type": "code",
   "execution_count": null,
   "id": "72d71997",
   "metadata": {},
   "outputs": [],
   "source": [
    "dyn.ext.ddhodge(adata, basis='pca')\n"
   ]
  },
  {
   "cell_type": "code",
   "execution_count": null,
   "id": "8b7caf26",
   "metadata": {},
   "outputs": [],
   "source": [
    "#dyn.vf.VectorField(adata, basis='umap')\n",
    "dyn.ext.ddhodge(adata, basis='umap')"
   ]
  },
  {
   "cell_type": "code",
   "execution_count": null,
   "id": "7827d81b",
   "metadata": {},
   "outputs": [],
   "source": [
    "dyn.pl.streamline_plot(adata, color=[ 'leiden_anno','umap_ddhodge_potential',\"RORA\",\"PITX1\"],#'pca_ddhodge_potential',\n",
    "                       ncols=2, basis='umap',layer=\"M_s\",) \n",
    "\n",
    "plt.savefig(\"./figure/cornea RORA PITX1 ddhodge_potential.pdf\")\n"
   ]
  },
  {
   "cell_type": "code",
   "execution_count": null,
   "id": "208efef1",
   "metadata": {},
   "outputs": [],
   "source": [
    "transition_genes = adata.var_names[adata.var.use_for_transition]\n",
    "transition_genes"
   ]
  },
  {
   "cell_type": "code",
   "execution_count": null,
   "id": "0d21a659",
   "metadata": {},
   "outputs": [],
   "source": [
    "dyn.pl.kinetic_heatmap(adata,\n",
    "                       genes=transition_genes,\n",
    "                       tkey='umap_ddhodge_potential',\n",
    "                       gene_order_method='maximum',\n",
    "                       layer='acceleration',\n",
    "                       mode='pseudotime',\n",
    "                       angle = 0,\n",
    "                       #show_colorbar=True,\n",
    "                       #yticklabels=True,\n",
    "                       show_colorbar=False,\n",
    "                       yticklabels=True,\n",
    "                       figsize=(6, 200),\n",
    "                       #figsize=(6, 250),\n",
    "                       color_map='RdBu_r',)\n",
    "                     #xticklabels=True )\n",
    "                       \n",
    "\n",
    "plt.savefig(\"./figure/umap acceleration heatmap_tmp.pdf\")"
   ]
  },
  {
   "cell_type": "code",
   "execution_count": null,
   "id": "d948de6f",
   "metadata": {},
   "outputs": [],
   "source": [
    "selected_genes =  [\"RORA\", \"PITX1\"]\n",
    "expr_vals = [-100, -100]\n",
    "dyn.pd.perturbation(adata, selected_genes, expr_vals, emb_basis=\"umap\",pertubation_method=\"j_x_prime\")\n",
    "\n",
    "dyn.pl.streamline_plot(adata, color=[\"leiden_anno\",\"umap_ddhodge_potential\"], basis=\"umap_perturbation\",\n",
    "                       save_show_or_return='save',save_kwargs={\"path\":\"KO\",\"prefix\":\"RORA_PITX1\",\"ext\":\"svg\"})\n",
    "\n",
    "\n"
   ]
  },
  {
   "cell_type": "code",
   "execution_count": null,
   "id": "4835352d",
   "metadata": {},
   "outputs": [],
   "source": [
    "selected_genes =  [\"RORA\", \"PITX1\"]\n",
    "expr_vals = [100, 100]\n",
    "dyn.pd.perturbation(adata, selected_genes, expr_vals, emb_basis=\"umap\",pertubation_method=\"j_delta_x\")\n",
    "\n",
    "dyn.pl.streamline_plot(adata, color=[\"leiden_anno\",\"umap_ddhodge_potential\"], basis=\"umap_perturbation\",\n",
    "                       save_show_or_return='save',save_kwargs={\"path\":\"OE\",\"prefix\":\"RORA_PITX1\",\"ext\":\"svg\"})\n",
    "\n"
   ]
  },
  {
   "cell_type": "code",
   "execution_count": null,
   "id": "434711cf",
   "metadata": {},
   "outputs": [],
   "source": []
  }
 ],
 "metadata": {
  "kernelspec": {
   "display_name": "dynamo3",
   "language": "python",
   "name": "dynamo3"
  },
  "language_info": {
   "codemirror_mode": {
    "name": "ipython",
    "version": 3
   },
   "file_extension": ".py",
   "mimetype": "text/x-python",
   "name": "python",
   "nbconvert_exporter": "python",
   "pygments_lexer": "ipython3",
   "version": "3.8.5"
  }
 },
 "nbformat": 4,
 "nbformat_minor": 5
}
