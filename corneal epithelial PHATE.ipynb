{
  "cells": [
    {
      "cell_type": "code",
      "source": [
        "import pandas as pd\n",
        "import numpy as np\n",
        "import matplotlib.pyplot as plt\n",
        "import phate\n",
        "import scprep\n",
        "import magic"
      ],
      "outputs": [],
      "execution_count": null,
      "metadata": {}
    },
    {
      "cell_type": "code",
      "source": [
        "\n",
        "PCW10_2 = scprep.io.load_tsv(\"PCW10.2_phate_data_cornea.txt\")\n",
        "\n",
        "PCW12_1 = scprep.io.load_tsv(\"PCW12.1_phate_data_cornea.txt\")\n",
        "PCW12_2 = scprep.io.load_tsv(\"PCW12.2_phate_data_cornea.txt\")\n",
        "PCW12_3 = scprep.io.load_tsv(\"PCW12.3_phate_data_cornea.txt\")\n",
        "PCW12_4 = scprep.io.load_tsv(\"PCW12.4_phate_data_cornea.txt\")\n",
        "\n",
        "PCW13_1 = scprep.io.load_tsv(\"PCW13.1_phate_data_cornea.txt\")\n",
        "PCW13_2 = scprep.io.load_tsv(\"PCW13.2_phate_data_cornea.txt\")\n",
        "\n",
        "PCW14_1 = scprep.io.load_tsv(\"PCW14.1_phate_data_cornea.txt\")\n",
        "PCW14_2 = scprep.io.load_tsv(\"PCW14.2_phate_data_cornea.txt\")\n",
        "\n",
        "PCW16_1 = scprep.io.load_tsv(\"PCW16.1_phate_data_cornea.txt\")\n",
        "PCW16_2 = scprep.io.load_tsv(\"PCW16.2_phate_data_cornea.txt\")\n",
        "\n",
        "PCW17 = scprep.io.load_tsv(\"PCW17_phate_data_cornea.txt\")\n",
        "PCW18 = scprep.io.load_tsv(\"PCW18_phate_data_cornea.txt\")\n",
        "\n",
        "PCW20_2 = scprep.io.load_tsv(\"PCW20.2_phate_data_cornea.txt\")\n",
        "PCW21 = scprep.io.load_tsv(\"PCW21_phate_data_cornea.txt\")\n",
        "\n",
        "adult_1 = scprep.io.load_tsv(\"adult.1_phate_data_cornea.txt\")\n",
        "adult_2 = scprep.io.load_tsv(\"adult.2_phate_data_cornea.txt\")\n",
        "adult_3 = scprep.io.load_tsv(\"adult.3_phate_data_cornea.txt\")\n",
        "adult_4 = scprep.io.load_tsv(\"adult.4_phate_data_cornea.txt\")\n",
        "\n"
      ],
      "outputs": [],
      "execution_count": 2,
      "metadata": {}
    },
    {
      "cell_type": "code",
      "source": [
        "alldata = [PCW10_2,PCW12_1,PCW12_2,PCW12_3,PCW12_4,PCW13_1,PCW13_2,\n",
        "          PCW14_1,PCW14_2,PCW16_1,PCW16_2,PCW17,PCW18,PCW20_2,\n",
        "          PCW21,adult_1, adult_2,adult_3,adult_4]\n",
        "\n"
      ],
      "outputs": [],
      "execution_count": 4,
      "metadata": {}
    },
    {
      "cell_type": "code",
      "source": [
        "EBT_counts, sample_labels = scprep.utils.combine_batches(\n",
        "  alldata,\n",
        "  ['PCW10_2','PCW12_1', 'PCW12_2','PCW12_3','PCW12_4','PCW13_1','PCW13_2',\n",
        "    'PCW14_1','PCW14_2','PCW16_1','PCW16_2','PCW17','PCW18','PCW20_2',\n",
        "    'PCW21','adult_1', 'adult_2','adult_3','adult_4'],\n",
        "  append_to_cell_names=False\n",
        ")"
      ],
      "outputs": [],
      "execution_count": 5,
      "metadata": {}
    },
    {
      "cell_type": "code",
      "source": [
        "EBT_counts = scprep.filter.filter_rare_genes(EBT_counts, min_cells=50)\n",
        "EBT_counts.head()"
      ],
      "outputs": [],
      "execution_count": null,
      "metadata": {}
    },
    {
      "cell_type": "code",
      "source": [
        "EBT_counts.shape\n"
      ],
      "outputs": [],
      "execution_count": null,
      "metadata": {}
    },
    {
      "cell_type": "code",
      "source": [
        "sample_labels"
      ],
      "outputs": [],
      "execution_count": null,
      "metadata": {}
    },
    {
      "cell_type": "code",
      "source": [
        "phate_operator = phate.PHATE(n_jobs=48,knn=5, decay=1, t=15, gamma=1)#,mds=\"classic\",mds_solver='smacof')\n",
        "Y_phate = phate_operator.fit_transform(EBT_counts)"
      ],
      "outputs": [],
      "execution_count": null,
      "metadata": {}
    },
    {
      "cell_type": "code",
      "source": [
        "Y_phate"
      ],
      "outputs": [],
      "execution_count": null,
      "metadata": {}
    },
    {
      "cell_type": "code",
      "source": [
        "np.save(\"./cornea_phate_data_5_15\",Y_phate)"
      ],
      "outputs": [],
      "execution_count": 457,
      "metadata": {}
    },
    {
      "cell_type": "code",
      "source": [
        "df=pd.DataFrame(Y_phate)\n",
        "df.to_csv (\"./cornea_phate_data_5_15.csv\")"
      ],
      "outputs": [],
      "execution_count": 490,
      "metadata": {}
    },
    {
      "cell_type": "code",
      "source": [
        "df=pd.DataFrame(EBT_counts.index)\n",
        "df.to_csv(\"./cornea_phate_data_5_15_cellname.csv\")\n"
      ],
      "outputs": [],
      "execution_count": 482,
      "metadata": {}
    },
    {
      "cell_type": "code",
      "source": [
        "Y_phate = np.load(\"./cornea_phate_data_5_15.npy\")"
      ],
      "outputs": [],
      "execution_count": 9,
      "metadata": {}
    },
    {
      "cell_type": "code",
      "source": [
        "scprep.plot.scatter2d(Y_phate, c=sample_labels, figsize=(10,8), cmap=\"Spectral\",\n",
        "                      ticks=False, label_prefix=\"PHATE\")\n",
        "plt.savefig(\"plot_phate_2d_by_sample.pdf\")"
      ],
      "outputs": [],
      "execution_count": null,
      "metadata": {}
    }
  ],
  "metadata": {
    "kernelspec": {
      "display_name": "Python 3 (ipykernel)",
      "language": "python",
      "name": "python3"
    },
    "language_info": {
      "codemirror_mode": {
        "name": "ipython",
        "version": 3
      },
      "file_extension": ".py",
      "mimetype": "text/x-python",
      "name": "python",
      "nbconvert_exporter": "python",
      "pygments_lexer": "ipython3",
      "version": "3.8.5"
    },
    "nteract": {
      "version": "0.28.0"
    }
  },
  "nbformat": 4,
  "nbformat_minor": 4
}