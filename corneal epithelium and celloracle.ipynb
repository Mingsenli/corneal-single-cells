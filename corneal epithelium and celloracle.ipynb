{
  "cells": [
    {
      "cell_type": "code",
      "source": [
        "import os\n",
        "import matplotlib.pyplot as plt\n",
        "import numpy as np\n",
        "import pandas as pd\n",
        "import scanpy as sc\n",
        "\n",
        "\n",
        "import sys\n",
        "import seaborn as sns\n",
        "import celloracle as co\n",
        "co.__version__\n",
        "\n",
        "\n",
        "from celloracle.applications import Pseudotime_calculator"
      ],
      "outputs": [],
      "execution_count": null,
      "metadata": {}
    },
    {
      "cell_type": "code",
      "source": [
        "# visualization settings\n",
        "%config InlineBackend.figure_format = 'retina'\n",
        "%matplotlib inline\n",
        "\n",
        "plt.rcParams['figure.figsize'] = [4.5, 4.5]\n",
        "plt.rcParams[\"savefig.dpi\"] = 300"
      ],
      "outputs": [],
      "execution_count": null,
      "metadata": {}
    },
    {
      "cell_type": "code",
      "source": [
        "# reload dataset\n",
        "adata = sc.read_h5ad('./cornea_limbus_epithelium_count.h5ad')"
      ],
      "outputs": [],
      "execution_count": null,
      "metadata": {}
    },
    {
      "cell_type": "code",
      "source": [
        "\n",
        "adata=adata[:,highly_variable]\n",
        "\n"
      ],
      "outputs": [],
      "execution_count": null,
      "metadata": {}
    },
    {
      "cell_type": "code",
      "source": [
        "sc.pp.normalize_per_cell(adata)"
      ],
      "outputs": [],
      "execution_count": null,
      "metadata": {}
    },
    {
      "cell_type": "code",
      "source": [
        "# keep raw cont data before log transformation\n",
        "\n",
        "adata.raw=adata\n",
        "adata.layers[\"raw_count\"] = adata.raw.X.copy()\n",
        "\n",
        "\n",
        "# Log transformation and scaling\n",
        "sc.pp.log1p(adata)\n",
        "sc.pp.scale(adata)"
      ],
      "outputs": [],
      "execution_count": null,
      "metadata": {}
    },
    {
      "cell_type": "code",
      "source": [
        "# PCA\n",
        "sc.tl.pca(adata, svd_solver='arpack')\n",
        "sc.pl.pca_variance_ratio(adata, log=True)\n",
        "\n"
      ],
      "outputs": [],
      "execution_count": null,
      "metadata": {}
    },
    {
      "cell_type": "code",
      "source": [
        "sc.pp.neighbors(adata, n_neighbors=4, n_pcs=20)\n",
        "\n"
      ],
      "outputs": [],
      "execution_count": null,
      "metadata": {}
    },
    {
      "cell_type": "code",
      "source": [
        "\n",
        "import bbknn  \n",
        "sc.external.pp.bbknn(adata, batch_key='orig.ident')\n"
      ],
      "outputs": [],
      "execution_count": null,
      "metadata": {}
    },
    {
      "cell_type": "code",
      "source": [
        "#sc.tl.umap(adata, init_pos='paga')\n",
        "sc.tl.umap(adata)\n",
        "sc.tl.leiden(adata,resolution =0.8)\n",
        "sc.pl.umap(adata, color=['group','leiden'],legend_fontsize='large',legend_loc='on data')"
      ],
      "outputs": [],
      "execution_count": null,
      "metadata": {}
    },
    {
      "cell_type": "code",
      "source": [
        "\n",
        "cluster_list = adata.obs.leiden.unique()\n",
        "# Make cluster anottation dictionary\n",
        "annotation = {\"E_LSC\": [10],\n",
        "              \"E_cornea.basal\":[0],\n",
        "              \"E_cornea.suprabasal\":[6],  \n",
        "              \"E_cornea.superficial\":[2],\n",
        "              \"E_limbal.superficial\":[9],\n",
        "              \"adult_LSC\": [7],\n",
        "              \"adult_cornea.basal\":[8],\n",
        "              \"adult_cornea.suprabasal\":[1],\n",
        "              \"adult_limbal.suprabasal\" :[5],\n",
        "              \"adult_cornea.superficial\":[4],\n",
        "              \"adult_limbal.superficial\":[3]}\n",
        "             \n",
        "\n",
        "# Change dictionary format\n",
        "annotation_rev = {}\n",
        "for i in cluster_list:\n",
        "    for k in annotation:\n",
        "        if int(i) in annotation[k]:\n",
        "            annotation_rev[i] = k\n",
        "\n",
        "# Check dictionary\n",
        "annotation_rev\n",
        "\n",
        "adata.obs[\"leiden_anno\"] = [annotation_rev[i] for i in adata.obs.leiden]"
      ],
      "outputs": [],
      "execution_count": null,
      "metadata": {}
    },
    {
      "cell_type": "code",
      "source": [
        "sc.pl.umap(adata, color='leiden_anno',legend_fontsize='large',frameon=False,save=\"cornea.epithelium.umap.pdf\")"
      ],
      "outputs": [],
      "execution_count": null,
      "metadata": {
        "nteract": {
          "transient": {
            "deleting": false
          }
        }
      }
    },
    {
      "cell_type": "code",
      "source": [
        "sc.pl.umap(adata, color=['group'], frameon=False,legend_fontsize='large',palette='Paired_r',save=\"cornea.epithelium.group.umap.pdf\")\n"
      ],
      "outputs": [],
      "execution_count": null,
      "metadata": {}
    },
    {
      "cell_type": "code",
      "source": [],
      "outputs": [],
      "execution_count": null,
      "metadata": {}
    },
    {
      "cell_type": "code",
      "source": [
        "adata.write_h5ad(\"cornea_limbus_epithelium.highly_variable_scanpy.h5ad\")"
      ],
      "outputs": [],
      "execution_count": null,
      "metadata": {}
    },
    {
      "cell_type": "code",
      "source": [
        "adata = sc.read_h5ad('cornea_limbus_epithelium.highly_variable_scanpy.h5ad')"
      ],
      "outputs": [],
      "execution_count": null,
      "metadata": {}
    },
    {
      "cell_type": "code",
      "source": [
        "# Instantiate Oracle object\n",
        "oracle = co.Oracle()"
      ],
      "outputs": [],
      "execution_count": null,
      "metadata": {}
    },
    {
      "cell_type": "code",
      "source": [
        "# Check data in anndata\n",
        "print(\"Metadata columns :\", list(adata.obs.columns))\n",
        "print(\"Dimensional reduction: \", list(adata.obsm.keys()))"
      ],
      "outputs": [],
      "execution_count": null,
      "metadata": {}
    },
    {
      "cell_type": "code",
      "source": [
        "adata"
      ],
      "outputs": [],
      "execution_count": null,
      "metadata": {}
    },
    {
      "cell_type": "code",
      "source": [
        "# In this notebook, we use the unscaled mRNA count for the nput of Oracle object.\n",
        "adata.X = adata.layers[\"raw_count\"].copy()\n",
        "\n",
        "# Instantiate Oracle object.\n",
        "oracle.import_anndata_as_raw_count(adata=adata,\n",
        "                                   cluster_column_name='leiden_anno',#\"cell_type\",\n",
        "                                   embedding_name='X_umap')#\"X_draw_graph_fa\")\n",
        "\n",
        "\n"
      ],
      "outputs": [],
      "execution_count": null,
      "metadata": {}
    },
    {
      "cell_type": "code",
      "source": [],
      "outputs": [],
      "execution_count": null,
      "metadata": {}
    },
    {
      "cell_type": "code",
      "source": [
        "# Load the TF and target gene information from Paul et al. (2015).\n",
        "regulons = pd.read_csv(\"cornea_epithelium.count.regulons_celloracle.csv\")\n",
        "\n",
        "\n",
        "regulons=regulons.astype(str)\n",
        "regulons\n"
      ],
      "outputs": [],
      "execution_count": null,
      "metadata": {}
    },
    {
      "cell_type": "code",
      "source": [
        "# Make dictionary: dictionary key is TF and dictionary value is list of target genes.\n",
        "TF_to_TG_dictionary = {}\n",
        "\n",
        "for TF, TGs in zip(regulons.TF, regulons.Target_genes):\n",
        "    # convert target gene to list\n",
        "    TG_list = TGs.replace(\" \", \"\").split(\",\")\n",
        "    # store target gene list in a dictionary\n",
        "    TF_to_TG_dictionary[TF] = TG_list\n",
        "\n",
        "# We invert the dictionary above using a utility function in celloracle.\n",
        "TG_to_TF_dictionary = co.utility.inverse_dictionary(TF_to_TG_dictionary)"
      ],
      "outputs": [],
      "execution_count": null,
      "metadata": {}
    },
    {
      "cell_type": "code",
      "source": [
        "\n",
        "oracle.addTFinfo_dictionary(TG_to_TF_dictionary)"
      ],
      "outputs": [],
      "execution_count": null,
      "metadata": {}
    },
    {
      "cell_type": "code",
      "source": [
        "# Perform PCA\n",
        "oracle.perform_PCA()\n",
        "\n",
        "# Select important PCs\n",
        "plt.plot(np.cumsum(oracle.pca.explained_variance_ratio_)[:100])\n",
        "n_comps = np.where(np.diff(np.diff(np.cumsum(oracle.pca.explained_variance_ratio_))>0.002))[0][0]\n",
        "plt.axvline(n_comps, c=\"k\")\n",
        "plt.show()\n",
        "print(n_comps)\n",
        "n_comps = min(n_comps, 50)"
      ],
      "outputs": [],
      "execution_count": null,
      "metadata": {}
    },
    {
      "cell_type": "code",
      "source": [
        "n_cell = oracle.adata.shape[0]\n",
        "print(f\"cell number is :{n_cell}\")"
      ],
      "outputs": [],
      "execution_count": null,
      "metadata": {}
    },
    {
      "cell_type": "code",
      "source": [
        "k = int(0.025*n_cell)\n",
        "print(f\"Auto-selected k is :{k}\")"
      ],
      "outputs": [],
      "execution_count": null,
      "metadata": {}
    },
    {
      "cell_type": "code",
      "source": [
        "\n",
        "oracle.knn_imputation(n_pca_dims=n_comps, k=k, balanced=True, b_sight=k*8,\n",
        "                      b_maxl=k*4, n_jobs=24)"
      ],
      "outputs": [],
      "execution_count": null,
      "metadata": {}
    },
    {
      "cell_type": "code",
      "source": [
        "# Save oracle object.\n",
        "oracle.to_hdf5(\"cornea_epithlium.highly_variable_final.celloracle.oracle\")"
      ],
      "outputs": [],
      "execution_count": null,
      "metadata": {}
    },
    {
      "cell_type": "code",
      "source": [
        "# Load file.\n",
        "oracle = co.load_hdf5(\"cornea_epithlium.highly_variable_final.celloracle.oracle\")"
      ],
      "outputs": [],
      "execution_count": null,
      "metadata": {}
    },
    {
      "cell_type": "code",
      "source": [
        "###GRN calculation\n",
        "# Check clustering data\n",
        "#sc.pl.draw_graph(oracle.adata, color=[\"cell_type\",\"leiden_anno\"])\n",
        "\n",
        "sc.pl.umap(adata, color='leiden_anno',legend_fontsize='large')"
      ],
      "outputs": [],
      "execution_count": null,
      "metadata": {}
    },
    {
      "cell_type": "code",
      "source": [
        "%%time\n",
        "# Calculate GRN for each population in \"louvain_annot\" clustering unit.\n",
        "# This step may take some time.(~30 minutes)\n",
        "links = oracle.get_links(cluster_name_for_GRN_unit=\"leiden_anno\", alpha=10,\n",
        "                         verbose_level=10, n_jobs=48)"
      ],
      "outputs": [],
      "execution_count": null,
      "metadata": {}
    },
    {
      "cell_type": "code",
      "source": [
        "#order = ['6', '11', '9','2', '8', '7', '3', '5', '4', '0', '1', '10']\n",
        "       \n",
        "  \n",
        "order = [\"E_LSC\",\n",
        "\"E_cornea.basal\",\n",
        "\"E_cornea.suprabasal\",  \n",
        "\"E_cornea.superficial\",\n",
        "\"E_limbal.superficial\",\n",
        "\"adult_LSC\",\n",
        "\"adult_cornea.basal\",\n",
        "\"adult_cornea.suprabasal\",\n",
        "\"adult_limbal.suprabasal\" ,\n",
        "\"adult_cornea.superficial\",\n",
        "\"adult_limbal.superficial\"]\n",
        "         \n",
        "links.palette = links.palette.loc[order]"
      ],
      "outputs": [],
      "execution_count": null,
      "metadata": {}
    },
    {
      "cell_type": "code",
      "source": [
        "#Network preprocessing\n",
        "links.filter_links(p=0.001, weight=\"coef_abs\", threshold_number=2000)"
      ],
      "outputs": [],
      "execution_count": null,
      "metadata": {}
    },
    {
      "cell_type": "code",
      "source": [
        "plt.rcParams[\"figure.figsize\"] = [9, 4.5]\n",
        "links.plot_degree_distributions(plot_model=True,\n",
        "                                               #save=f\"{save_folder}/degree_distribution/\",\n",
        "                                               )"
      ],
      "outputs": [],
      "execution_count": null,
      "metadata": {}
    },
    {
      "cell_type": "code",
      "source": [
        "plt.rcParams[\"figure.figsize\"] = [6, 8]"
      ],
      "outputs": [],
      "execution_count": null,
      "metadata": {}
    },
    {
      "cell_type": "code",
      "source": [
        "# Calculate network scores.\n",
        "links.get_network_score()"
      ],
      "outputs": [],
      "execution_count": null,
      "metadata": {}
    },
    {
      "cell_type": "code",
      "source": [
        "links.merged_score.head()"
      ],
      "outputs": [],
      "execution_count": null,
      "metadata": {}
    },
    {
      "cell_type": "code",
      "source": [
        "# 保存Save Links object.\n",
        "links.to_hdf5(file_path=\"links_final.celloracle.links\")"
      ],
      "outputs": [],
      "execution_count": null,
      "metadata": {}
    },
    {
      "cell_type": "code",
      "source": [
        "# 读取You can load files with the following command.\n",
        "links = co.load_hdf5(file_path=\"links_final.celloracle.links\")"
      ],
      "outputs": [],
      "execution_count": null,
      "metadata": {}
    },
    {
      "cell_type": "code",
      "source": [
        "# Check cluster name\n",
        "links.cluster"
      ],
      "outputs": [],
      "execution_count": null,
      "metadata": {}
    },
    {
      "cell_type": "code",
      "source": [
        "# Visualize top n-th genes with high scores.\n",
        "links.plot_scores_as_rank(cluster=\"adult_cornea.superficial\", n_gene=50, save=f\"{save_folder}/ranked_score\")\n"
      ],
      "outputs": [],
      "execution_count": null,
      "metadata": {}
    },
    {
      "cell_type": "code",
      "source": [
        "# Compare GRN score between two clusters\n",
        "links.plot_score_comparison_2D(value=\"eigenvector_centrality\",\n",
        "                               cluster1=\"adult_LSC\", cluster2=\"adult_cornea.superficial\",\n",
        "                               percentile=98,\n",
        "                               save=f\"{save_folder}/score_comparison\")"
      ],
      "outputs": [],
      "execution_count": null,
      "metadata": {}
    },
    {
      "cell_type": "code",
      "source": [
        "# Compare GRN score between two clusters\n",
        "links.plot_score_comparison_2D(value=\"betweenness_centrality\",\n",
        "                                cluster1=\"adult_LSC\", cluster2=\"adult_cornea.superficial\",\n",
        "                               percentile=98,\n",
        "                               save=f\"{save_folder}/score_comparison\")"
      ],
      "outputs": [],
      "execution_count": null,
      "metadata": {}
    },
    {
      "cell_type": "code",
      "source": [
        "# Compare GRN score between two clusters\n",
        "links.plot_score_comparison_2D(value=\"degree_centrality_all\",\n",
        "                                cluster1=\"adult_LSC\", cluster2=\"adult_cornea.superficial\",\n",
        "                               percentile=98, save=f\"{save_folder}/score_comparison\")"
      ],
      "outputs": [],
      "execution_count": null,
      "metadata": {}
    },
    {
      "cell_type": "code",
      "source": [
        "# Visualize Gata2 network score dynamics\n",
        "links.plot_score_per_cluster(goi=\"RORA\", save=f\"{save_folder}/network_score_per_gene/\")"
      ],
      "outputs": [],
      "execution_count": null,
      "metadata": {}
    },
    {
      "cell_type": "code",
      "source": [
        "# Visualize Cebpa network score dynamics\n",
        "links.plot_score_per_cluster(goi=\"PITX1\")"
      ],
      "outputs": [],
      "execution_count": null,
      "metadata": {}
    },
    {
      "cell_type": "code",
      "source": [
        "cluster_name = \"adult_cornea.superficial\"\n",
        "filtered_links_df = links.filtered_links[cluster_name]\n",
        "filtered_links_df.head()"
      ],
      "outputs": [],
      "execution_count": null,
      "metadata": {}
    },
    {
      "cell_type": "code",
      "source": [
        "filtered_links_df[filtered_links_df.source == \"RORA\"]"
      ],
      "outputs": [],
      "execution_count": null,
      "metadata": {}
    },
    {
      "cell_type": "code",
      "source": [
        "plt.rcParams[\"figure.figsize\"] = [6, 4.5]"
      ],
      "outputs": [],
      "execution_count": null,
      "metadata": {}
    },
    {
      "cell_type": "code",
      "source": [
        "# Plot degree_centrality\n",
        "plt.subplots_adjust(left=0.15, bottom=0.3)\n",
        "plt.ylim([0,0.040])\n",
        "links.plot_score_discributions(values=[\"degree_centrality_all\"],\n",
        "                               method=\"boxplot\",\n",
        "                               save=f\"{save_folder}\",\n",
        "                              )\n",
        "\n"
      ],
      "outputs": [],
      "execution_count": null,
      "metadata": {}
    },
    {
      "cell_type": "code",
      "source": [
        "# Plot eigenvector_centrality\n",
        "plt.subplots_adjust(left=0.15, bottom=0.3)\n",
        "plt.ylim([0, 0.28])\n",
        "links.plot_score_discributions(values=[\"eigenvector_centrality\"],\n",
        "                               method=\"boxplot\",\n",
        "                               save=f\"{save_folder}\")\n"
      ],
      "outputs": [],
      "execution_count": null,
      "metadata": {}
    },
    {
      "cell_type": "code",
      "source": [
        "plt.subplots_adjust(left=0.15, bottom=0.3)\n",
        "links.plot_network_entropy_distributions(save=f\"{save_folder}\")\n",
        "\n"
      ],
      "outputs": [],
      "execution_count": null,
      "metadata": {}
    },
    {
      "cell_type": "code",
      "source": [
        "links.filter_links()\n",
        "oracle.get_cluster_specific_TFdict_from_Links(links_object=links)\n",
        "oracle.fit_GRN_for_simulation(alpha=10,\n",
        "                              use_cluster_specific_TFdict=True)"
      ],
      "outputs": [],
      "execution_count": null,
      "metadata": {}
    },
    {
      "cell_type": "code",
      "source": [
        "# Check gene expression\n",
        "goi = \"PITX1\"\n",
        "\n",
        "#sc.pl.umap(oracle.adata, color=[goi, oracle.cluster_column_name],\n",
        " #                layer=\"imputed_count\",vmax=\"q99\", use_raw=False,save=\"PITX1_umap.pdf\")"
      ],
      "outputs": [],
      "execution_count": null,
      "metadata": {}
    },
    {
      "cell_type": "code",
      "source": [
        "# Plot gene expression in histogram\n",
        "sc.get.obs_df(oracle.adata, keys=[goi], layer=\"imputed_count\").hist()\n",
        "plt.show()"
      ],
      "outputs": [],
      "execution_count": null,
      "metadata": {}
    },
    {
      "cell_type": "code",
      "source": [
        "# Enter perturbation conditions to simulate signal propagation after the perturbation.\n",
        "oracle.simulate_shift(perturb_condition={goi: 0.0},\n",
        "                      n_propagation=3)"
      ],
      "outputs": [],
      "execution_count": null,
      "metadata": {}
    },
    {
      "cell_type": "code",
      "source": [
        "# Get transition probability\n",
        "oracle.estimate_transition_prob(n_neighbors=200,\n",
        "                                knn_random=True,\n",
        "                                sampled_fraction=1,n_jobs=48)\n",
        "\n",
        "# Calculate embedding\n",
        "oracle.calculate_embedding_shift(sigma_corr=0.05)"
      ],
      "outputs": [],
      "execution_count": null,
      "metadata": {}
    },
    {
      "cell_type": "code",
      "source": [
        "fig, ax = plt.subplots(1, 2,  figsize=[13, 6])\n",
        "\n",
        "scale =20\n",
        "# Show quiver plot\n",
        "oracle.plot_quiver(scale=scale, ax=ax[0])\n",
        "ax[0].set_title(f\"Simulated cell identity shift vector: {goi} KO\")\n",
        "\n",
        "# Show quiver plot that was calculated with randomized graph.\n",
        "oracle.plot_quiver_random(scale=scale, ax=ax[1])\n",
        "ax[1].set_title(f\"Randomized simulation vector\")\n",
        "\n",
        "plt.show()"
      ],
      "outputs": [],
      "execution_count": null,
      "metadata": {}
    },
    {
      "cell_type": "code",
      "source": [
        "# n_grid = 40 is a good starting value.\n",
        "n_grid = 40\n",
        "oracle.calculate_p_mass(smooth=0.8, n_grid=n_grid, n_neighbors=200)"
      ],
      "outputs": [],
      "execution_count": null,
      "metadata": {}
    },
    {
      "cell_type": "code",
      "source": [
        "# Search for best min_mass.\n",
        "oracle.suggest_mass_thresholds(n_suggestion=12)"
      ],
      "outputs": [],
      "execution_count": null,
      "metadata": {}
    },
    {
      "cell_type": "code",
      "source": [
        "min_mass = 24\n",
        "oracle.calculate_mass_filter(min_mass=min_mass, plot=True)"
      ],
      "outputs": [],
      "execution_count": null,
      "metadata": {}
    },
    {
      "cell_type": "code",
      "source": [
        "fig, ax = plt.subplots(1, 2,  figsize=[13, 6])\n",
        "\n",
        "scale_simulation = 1.3 ##\n",
        "# Show quiver plot\n",
        "oracle.plot_simulation_flow_on_grid(scale=scale_simulation, ax=ax[0])\n",
        "ax[0].set_title(f\"Simulated cell identity shift vector: {goi} KO\")\n",
        "\n",
        "# Show quiver plot that was calculated with randomized graph.\n",
        "oracle.plot_simulation_flow_random_on_grid(scale=scale_simulation, ax=ax[1])\n",
        "ax[1].set_title(f\"Randomized simulation vector\")\n",
        "\n",
        "plt.show()"
      ],
      "outputs": [],
      "execution_count": null,
      "metadata": {}
    },
    {
      "cell_type": "code",
      "source": [
        "# Plot vector field with cell cluster\n",
        "fig, ax = plt.subplots(figsize=[5, 5])\n",
        "\n",
        "oracle.plot_cluster_whole(ax=ax, s=5)\n",
        "oracle.plot_simulation_flow_on_grid(scale=scale_simulation, ax=ax, show_background=False)\n",
        "\n",
        "plt.savefig(\"./figures/PITX1 KO flow_final.pdf\")\n"
      ],
      "outputs": [],
      "execution_count": null,
      "metadata": {}
    },
    {
      "cell_type": "code",
      "source": [
        "# Instantiate pseudotime object using oracle object.\n",
        "pt = Pseudotime_calculator(oracle_object=oracle)"
      ],
      "outputs": [],
      "execution_count": null,
      "metadata": {}
    },
    {
      "cell_type": "code",
      "source": [
        "###\n",
        "cluster_column_name='leiden_anno'\n",
        "print(\"Clustering name: \", pt.cluster_column_name)\n",
        "print(\"Cluster list\", pt.cluster_list)"
      ],
      "outputs": [],
      "execution_count": null,
      "metadata": {}
    },
    {
      "cell_type": "code",
      "source": [
        "# Check data\n",
        "pt.plot_cluster(fontsize=5)"
      ],
      "outputs": [],
      "execution_count": null,
      "metadata": {}
    },
    {
      "cell_type": "code",
      "source": [
        "# Here, clusters can be classified into either MEP lineage or GMP lineage\n",
        "\n",
        "\n",
        "clusters_in_PCW_lineage = [\"E_LSC\",\n",
        "\"E_cornea.basal\",\n",
        "\"E_cornea.suprabasal\",  \n",
        "\"E_cornea.superficial\",\n",
        "\"E_limbal.superficial\"]\n",
        "\n",
        "\n",
        "clusters_in_adult_lineage = [\"adult_LSC\",\n",
        "\"adult_cornea.basal\",\n",
        "\"adult_cornea.suprabasal\",\n",
        "\"adult_limbal.suprabasal\" ,\n",
        "\"adult_cornea.superficial\",\n",
        "\"adult_limbal.superficial\"]\n",
        "\n",
        "#clusters_in_PCW_lineage = ['6', '11', '9','2', '8']\n",
        "#clusters_in_adult_lineage = ['7', '3', '5', '4', '0', '1', '10']\n",
        "\n",
        "\n",
        "#clusters_in_PCW_lineage = ['limbal.suprabasal', 'limbal.superfcial']\n",
        "#clusters_in_adult_lineage = ['LSC', 'cornea.basal',\"cornea.suprabasal\", 'cornea.superficial','limbal.suprabasal', 'limbal.superficial']\n",
        "\n",
        "# Make a dictionary\n",
        "lineage_dictionary = {\"Lineage_PCW\": clusters_in_PCW_lineage,\n",
        "           \"Lineage_adult\": clusters_in_adult_lineage}\n",
        "\n",
        "# Input lineage information into pseudotime object\n",
        "pt.set_lineage(lineage_dictionary=lineage_dictionary)\n",
        "\n",
        "# Visualize lineage information\n",
        "pt.plot_lineages()"
      ],
      "outputs": [],
      "execution_count": null,
      "metadata": {}
    },
    {
      "cell_type": "code",
      "source": [
        "# Show interactive plot using plotly. Please make sure that plotly is installed.\n",
        "\n",
        "try:\n",
        "    import plotly.express as px\n",
        "    def plot(adata, embedding_key, cluster_column_name):\n",
        "        embedding = adata.obsm[embedding_key]\n",
        "        df = pd.DataFrame(embedding, columns=[\"x\", \"y\"])\n",
        "        df[\"cluster\"] = adata.obs[cluster_column_name].values\n",
        "        df[\"label\"] = adata.obs.index.values\n",
        "        fig = px.scatter(df, x=\"x\", y=\"y\", hover_name=df[\"label\"], color=\"cluster\")\n",
        "        fig.show()\n",
        "\n",
        "    plot(adata=pt.adata,\n",
        "         embedding_key=pt.obsm_key,\n",
        "         cluster_column_name=pt.cluster_column_name)\n",
        "except:\n",
        "    print(\"Plotly not found in your environment. Did you install plotly? Please read the instruction above.\")\n"
      ],
      "outputs": [],
      "execution_count": null,
      "metadata": {}
    },
    {
      "cell_type": "code",
      "source": [
        "# Estimated root cell name for each lineage\n",
        "#root_cells = {\"Lineage_cornea\": \"adult.1_GTCTACCCAGGCATGA-1\"}\n",
        "#root_cells = {\"Lineage_cornea\": \"adult.3_CGTTAGAAGTAGGAAG-1\"}\n",
        "#root_cells = {\"Lineage_cornea\": \"PCW10.2_CTCAACCGTAACGTTC-1\"}\n",
        "#root_cells = {\"Lineage_adult\": \"adult.3_CGGGACTCACGACGTC-1\",\"Lineage_PCW\": \"PCW13.2_AACAACCTCTCAGAAC-1\"}\n",
        "root_cells = {\"Lineage_adult\": \"adult.3_CGGGACTCACGACGTC-1\",\"Lineage_PCW\": \"PCW16.2_TGTCCACAGATTAGAC-1\"}\n",
        "\n",
        "pt.set_root_cells(root_cells=root_cells)\n",
        "# Check root cell and lineage\n",
        "pt.plot_root_cells()"
      ],
      "outputs": [],
      "execution_count": null,
      "metadata": {
        "scrolled": true
      }
    },
    {
      "cell_type": "code",
      "source": [
        "# Check diffusion map data.\n",
        "\"X_diffmap\" in pt.adata.obsm"
      ],
      "outputs": [],
      "execution_count": null,
      "metadata": {}
    },
    {
      "cell_type": "code",
      "source": [
        "#plt.rcParams[\"font.family\"] = \"arial\"\n",
        "plt.rcParams[\"figure.figsize\"] = [5,5]\n",
        "%config InlineBackend.figure_format = 'retina'\n",
        "plt.rcParams[\"savefig.dpi\"] = 300\n",
        "\n",
        "%matplotlib inline"
      ],
      "outputs": [],
      "execution_count": null,
      "metadata": {}
    },
    {
      "cell_type": "code",
      "source": [
        "# Calculate pseudotime\n",
        "plt.figure()\n",
        "pt.get_pseudotime_per_each_lineage()\n",
        "# Check results\n",
        "pt.plot_pseudotime(cmap=\"rainbow\")\n",
        "\n"
      ],
      "outputs": [],
      "execution_count": null,
      "metadata": {}
    },
    {
      "cell_type": "code",
      "source": [
        "# Check result\n",
        "pt.adata.obs[[\"Pseudotime\"]].head()"
      ],
      "outputs": [],
      "execution_count": null,
      "metadata": {}
    },
    {
      "cell_type": "code",
      "source": [
        "# Add calculated pseudotime data to the oracle object\n",
        "oracle.adata.obs = pt.adata.obs\n",
        "\n",
        "# Save updated oracle object\n",
        "#oracle.to_hdf5(FILE_PATH)"
      ],
      "outputs": [],
      "execution_count": null,
      "metadata": {}
    },
    {
      "cell_type": "code",
      "source": [
        "# Visualize pseudotime\n",
        "fig, ax = plt.subplots(figsize=[6,5])\n",
        "\n",
        "sc.pl.embedding(adata=oracle.adata, basis=oracle.embedding_name, ax=ax, cmap=\"rainbow\",\n",
        "                color=[\"Pseudotime\"],save=\"cornea_epithelium_pseudotime_final.pdf\")"
      ],
      "outputs": [],
      "execution_count": null,
      "metadata": {}
    },
    {
      "cell_type": "code",
      "source": [
        "from celloracle.applications import Gradient_calculator\n",
        "\n",
        "# Instantiate Gradient calculator object\n",
        "gradient = Gradient_calculator(oracle_object=oracle, pseudotime_key=\"Pseudotime\")"
      ],
      "outputs": [],
      "execution_count": null,
      "metadata": {}
    },
    {
      "cell_type": "code",
      "source": [
        "gradient.calculate_p_mass(smooth=0.8, n_grid=n_grid, n_neighbors=200)\n",
        "gradient.calculate_mass_filter(min_mass=min_mass, plot=True)"
      ],
      "outputs": [],
      "execution_count": null,
      "metadata": {}
    },
    {
      "cell_type": "code",
      "source": [
        "gradient.transfer_data_into_grid(args={\"method\": \"polynomial\", \"n_poly\":3}, plot=True)"
      ],
      "outputs": [],
      "execution_count": null,
      "metadata": {}
    },
    {
      "cell_type": "code",
      "source": [
        "# Calculate graddient\n",
        "gradient.calculate_gradient()\n",
        "\n",
        "# Show results\n",
        "scale_dev = 20    ###\n",
        "gradient.visualize_results(scale=scale_dev, s=5)\n",
        "\n",
        "#plt.savefig(\"./figures/all_pseudotime_final.pdf\") "
      ],
      "outputs": [],
      "execution_count": null,
      "metadata": {}
    },
    {
      "cell_type": "code",
      "source": [
        "# Visualize results\n",
        "fig, ax = plt.subplots(figsize=[5, 5])\n",
        "oracle.plot_cluster_whole(ax=ax, s=5)\n",
        "gradient.plot_dev_flow_on_grid(scale=scale_dev, ax=ax,show_background=False)\n",
        "\n",
        "#plt.savefig(\"./figures/WT_flow_final.pdf\")\n"
      ],
      "outputs": [],
      "execution_count": null,
      "metadata": {}
    },
    {
      "cell_type": "code",
      "source": [
        "\n",
        "# Save gradient object if you want.\n",
        "gradient.to_hdf5(\"cornea_PITX1.celloracle.gradient\")"
      ],
      "outputs": [],
      "execution_count": null,
      "metadata": {}
    },
    {
      "cell_type": "code",
      "source": [
        "from celloracle.applications import Oracle_development_module\n",
        "\n",
        "# Make Oracle_development_module to compare two vector field\n",
        "dev = Oracle_development_module()\n",
        "\n",
        "# Load development flow\n",
        "dev.load_differentiation_reference_data(gradient_object=gradient)\n",
        "\n",
        "# Load simulation result\n",
        "dev.load_perturb_simulation_data(oracle_object=oracle)\n",
        "\n",
        "\n",
        "# Calculate inner produc scores\n",
        "dev.calculate_inner_product()\n",
        "dev.calculate_digitized_ip(n_bins=10)"
      ],
      "outputs": [],
      "execution_count": null,
      "metadata": {}
    },
    {
      "cell_type": "code",
      "source": [
        "# Show perturbation scores\n",
        "vm = 0.1   ####\n",
        "\n",
        "fig, ax = plt.subplots(1, 2, figsize=[12, 6])\n",
        "dev.plot_inner_product_on_grid(vm=0.02, s=50, ax=ax[0])\n",
        "ax[0].set_title(f\"PS\")\n",
        "\n",
        "dev.plot_inner_product_random_on_grid(vm=vm, s=50, ax=ax[1])\n",
        "ax[1].set_title(f\"PS calculated with Randomized simulation vector\")\n",
        "plt.show()"
      ],
      "outputs": [],
      "execution_count": null,
      "metadata": {}
    },
    {
      "cell_type": "code",
      "source": [
        "# Show perturbation scores with perturbation simulation vector field\n",
        "fig, ax = plt.subplots(figsize=[6, 6])\n",
        "dev.plot_inner_product_on_grid(vm=vm, s=50, ax=ax)\n",
        "dev.plot_simulation_flow_on_grid(scale=scale_simulation, show_background=False, ax=ax)\n",
        "\n",
        "plt.savefig(\"./figures/PITX1 KO flow_on_grid_final.pdf\")"
      ],
      "outputs": [],
      "execution_count": null,
      "metadata": {}
    },
    {
      "cell_type": "code",
      "source": [
        "# Let's visualize the results\n",
        "dev.visualize_development_module_layout_0(s=5,\n",
        "                                          scale_for_simulation=scale_simulation,\n",
        "                                          s_grid=50,\n",
        "                                          scale_for_pseudotime=scale_dev,\n",
        "                                          vm=vm)\n",
        "\n",
        "\n",
        "plt.savefig(\"./figures/PITX1 KO flow_all_final.pdf\")"
      ],
      "outputs": [],
      "execution_count": null,
      "metadata": {}
    },
    {
      "cell_type": "code",
      "source": [
        "\n",
        "cord=pd.DataFrame(data=adata.obsm['X_umap'],index=adata.obs_names,columns=['UMAP_1','UMAP_2'])\n",
        "cord.to_csv('cornea_scanpy_X_umap.tsv',sep=\"\\t\") "
      ],
      "outputs": [],
      "execution_count": null,
      "metadata": {}
    },
    {
      "cell_type": "code",
      "source": [
        "meta=pd.DataFrame(data=adata.obs)\n",
        "meta.to_csv('cornea_scanpy_metadata.tsv',sep=\"\\t\") "
      ],
      "outputs": [],
      "execution_count": null,
      "metadata": {}
    }
  ],
  "metadata": {
    "kernelspec": {
      "display_name": "singlecell",
      "language": "python",
      "name": "singlecell"
    },
    "language_info": {
      "codemirror_mode": {
        "name": "ipython",
        "version": 3
      },
      "file_extension": ".py",
      "mimetype": "text/x-python",
      "name": "python",
      "nbconvert_exporter": "python",
      "pygments_lexer": "ipython3",
      "version": "3.10.5"
    },
    "nteract": {
      "version": "0.28.0"
    }
  },
  "nbformat": 4,
  "nbformat_minor": 4
}